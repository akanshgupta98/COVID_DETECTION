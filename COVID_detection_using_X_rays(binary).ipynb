{
  "nbformat": 4,
  "nbformat_minor": 0,
  "metadata": {
    "colab": {
      "name": "COVID detection using X_rays.ipynb",
      "provenance": [],
      "collapsed_sections": []
    },
    "kernelspec": {
      "name": "python3",
      "display_name": "Python 3"
    },
    "accelerator": "GPU"
  },
  "cells": [
    {
      "cell_type": "markdown",
      "metadata": {
        "id": "IXAflqTTd65m",
        "colab_type": "text"
      },
      "source": [
        "# Importing "
      ]
    },
    {
      "cell_type": "code",
      "metadata": {
        "id": "LmPoS-VAtcjJ",
        "colab_type": "code",
        "colab": {}
      },
      "source": [
        "import torch\n",
        "import torchvision\n",
        "import torchvision.transforms as transforms\n",
        "import numpy as np\n",
        "import torch.optim as optim\n",
        "import torch.nn as nn\n",
        "import matplotlib.pyplot as plt\n"
      ],
      "execution_count": 1,
      "outputs": []
    },
    {
      "cell_type": "code",
      "metadata": {
        "id": "k6tEezztWD6t",
        "colab_type": "code",
        "colab": {
          "base_uri": "https://localhost:8080/",
          "height": 34
        },
        "outputId": "2e56d4e9-6cc6-46e8-b2dc-ee6803d4661c"
      },
      "source": [
        "device = torch.device('cuda:0')\n",
        "print(device)"
      ],
      "execution_count": 2,
      "outputs": [
        {
          "output_type": "stream",
          "text": [
            "cuda:0\n"
          ],
          "name": "stdout"
        }
      ]
    },
    {
      "cell_type": "markdown",
      "metadata": {
        "id": "9RUovKkAeI1J",
        "colab_type": "text"
      },
      "source": [
        "# Loading Dataset"
      ]
    },
    {
      "cell_type": "code",
      "metadata": {
        "id": "kbPkDjkC2w7J",
        "colab_type": "code",
        "colab": {}
      },
      "source": [
        "transform = transforms.Compose([\n",
        "    transforms.Resize(224),\n",
        "    transforms.ToTensor(),\n",
        "    transforms.Normalize((0.485, 0.456, 0.406), (0.229, 0.224, 0.225))\n",
        "  ])"
      ],
      "execution_count": 3,
      "outputs": []
    },
    {
      "cell_type": "code",
      "metadata": {
        "id": "sz9_YU5vuc4y",
        "colab_type": "code",
        "colab": {}
      },
      "source": [
        "trainset = torchvision.datasets.ImageFolder(root='/content/drive/My Drive/Covid train test/train',transform = transform)\n",
        "testset = torchvision.datasets.ImageFolder(root='/content/drive/My Drive/Covid train test/test',transform = transform)"
      ],
      "execution_count": 4,
      "outputs": []
    },
    {
      "cell_type": "markdown",
      "metadata": {
        "id": "ZrB78bEYBCLS",
        "colab_type": "text"
      },
      "source": [
        "# CNN Architecture"
      ]
    },
    {
      "cell_type": "code",
      "metadata": {
        "id": "w0Q5XF_FBFT2",
        "colab_type": "code",
        "colab": {}
      },
      "source": [
        "class FirstCNN(nn.Module):\n",
        "\n",
        "  def __init__(self):\n",
        "    super(FirstCNN,self).__init__()\n",
        "\n",
        "    self.conv = nn.Sequential(\n",
        "        nn.Conv2d(3,32,3), # (N,3,224,224) --> (N,32,222,222)\n",
        "        nn.BatchNorm2d(32),\n",
        "        nn.LeakyReLU(),\n",
        "        nn.MaxPool2d(2,2), #(N,32,111,111)\n",
        "        \n",
        "        nn.Conv2d(32,32,3), # (N,32,111,111) --> (N,32,109,109)\n",
        "        nn.BatchNorm2d(32),\n",
        "        nn.LeakyReLU(),\n",
        "        nn.MaxPool2d(2,2), #(N,32,54,54)\n",
        "        \n",
        "        nn.Conv2d(32,64,3), #(N,32,54,54) --> (N,64,52,52)\n",
        "        nn.BatchNorm2d(64),\n",
        "        nn.LeakyReLU(),\n",
        "        nn.Conv2d(64,250,3), #(N,250,50,50)\n",
        "        nn.BatchNorm2d(250),\n",
        "        nn.LeakyReLU(),\n",
        "        nn.Conv2d(250,128,3), #(N,128,48,48)\n",
        "        nn.BatchNorm2d(128),\n",
        "        nn.AvgPool2d(2,2), #(N,128,24,24)\n",
        "        \n",
        "        \n",
        "        nn.Conv2d(128,64,3), #(N,64,22,22)\n",
        "        nn.BatchNorm2d(64),\n",
        "        nn.LeakyReLU(),\n",
        "        nn.AvgPool2d(2,2), #(N,64,11,11)\n",
        "        \n",
        "        \n",
        "        nn.Conv2d(64,256,3), #(N,256,9,9)\n",
        "        nn.BatchNorm2d(256),\n",
        "        nn.LeakyReLU(),\n",
        "        nn.MaxPool2d(2,2), #(N,256,4,4)\n",
        "\n",
        "        \n",
        "    )\n",
        "    self.fc = nn.Sequential(\n",
        "        nn.Dropout(0.5),\n",
        "        nn.Linear(4096,32),\n",
        "        nn.LeakyReLU(),\n",
        "        nn.Dropout(0.5),\n",
        "        nn.Linear(32,2),\n",
        "        \n",
        "\n",
        "    )\n",
        "\n",
        "    \n",
        "\n",
        "  def forward(self,x):\n",
        "    x = self.conv(x)\n",
        "    x = x.view(x.size(0),-1)\n",
        "    x = self.fc(x)\n",
        "    return x"
      ],
      "execution_count": 5,
      "outputs": []
    },
    {
      "cell_type": "code",
      "metadata": {
        "id": "IHGYY-P0BFR9",
        "colab_type": "code",
        "colab": {}
      },
      "source": [
        "def evaluation(dataloader,model):\n",
        "\n",
        "    total,correct = 0,0\n",
        "    for data in dataloader:\n",
        "\n",
        "      inputs,labels = data\n",
        "      inputs,labels = inputs.to(device),labels.to(device)\n",
        "\n",
        "      outputs = model(inputs)\n",
        "      _,pred = torch.max(outputs.data,1)\n",
        "      \n",
        "\n",
        "\n",
        "      correct += (pred == labels).sum().item()\n",
        "      total += labels.size(0)\n",
        "\n",
        "    return 100*correct/total\n"
      ],
      "execution_count": 6,
      "outputs": []
    },
    {
      "cell_type": "code",
      "metadata": {
        "id": "tjy9HD-hBFQQ",
        "colab_type": "code",
        "colab": {}
      },
      "source": [
        "def fit(epochs,loss_fn,opt,model):\n",
        "\n",
        "  loss_arr = []\n",
        "  n_iter = np.ceil(2300/128)\n",
        "  for epoch in range(epochs):\n",
        "    \n",
        "    for i,data in enumerate(trainloader):\n",
        "      \n",
        "      inputs,labels = data\n",
        "      inputs,labels = inputs.to(device),labels.to(device)\n",
        "      opt.zero_grad()\n",
        "      outputs = model(inputs)\n",
        "      _,pred = torch.max(outputs.data,1)\n",
        "\n",
        "      loss = loss_fn(outputs,labels)\n",
        "      loss.backward()\n",
        "      opt.step()\n",
        "      del inputs,labels,outputs\n",
        "      torch.cuda.empty_cache()\n",
        "      if(i % 10 == 0):\n",
        "        print(f'Epoch:{epoch+1}: Iteration {i}/{n_iter}: Loss: {loss.item()}')\n",
        "        \n",
        "    loss_arr.append(loss.item())\n",
        "      \n",
        "  print(f'Epoch:{epoch}/{epochs}: The Train Accuracy: {evaluation(trainloader,model)} . The Test Accuracy: {evaluation(testloader,model)}')\n",
        "\n",
        "  plt.plot(loss_arr)\n",
        "  plt.show()\n",
        "\n",
        "    \n",
        "  "
      ],
      "execution_count": 7,
      "outputs": []
    },
    {
      "cell_type": "markdown",
      "metadata": {
        "id": "XUGBKO6jgz0k",
        "colab_type": "text"
      },
      "source": [
        "# Training the Model"
      ]
    },
    {
      "cell_type": "code",
      "metadata": {
        "id": "nu9foLtdBFMn",
        "colab_type": "code",
        "colab": {
          "base_uri": "https://localhost:8080/",
          "height": 622
        },
        "outputId": "7407086c-6ea5-44e9-a8af-45d50a9d08ee"
      },
      "source": [
        "trainloader = torch.utils.data.DataLoader(trainset,batch_size=128,shuffle=True)\n",
        "testloader = torch.utils.data.DataLoader(testset,batch_size=128,shuffle=False)\n",
        "net = FirstCNN()\n",
        "net = net.to(device)\n",
        "loss_fn = nn.CrossEntropyLoss()\n",
        "opt = optim.Adam(net.parameters(),lr = 0.0001)\n",
        "fit(10,loss_fn,opt,net)"
      ],
      "execution_count": 8,
      "outputs": [
        {
          "output_type": "stream",
          "text": [
            "Epoch:1: Iteration 0/18.0: Loss: 0.9892250299453735\n",
            "Epoch:1: Iteration 10/18.0: Loss: 0.1792677342891693\n",
            "Epoch:2: Iteration 0/18.0: Loss: 0.15349864959716797\n",
            "Epoch:2: Iteration 10/18.0: Loss: 0.07752306759357452\n",
            "Epoch:3: Iteration 0/18.0: Loss: 0.034246888011693954\n",
            "Epoch:3: Iteration 10/18.0: Loss: 0.05902902036905289\n",
            "Epoch:4: Iteration 0/18.0: Loss: 0.050324518233537674\n",
            "Epoch:4: Iteration 10/18.0: Loss: 0.027285628020763397\n",
            "Epoch:5: Iteration 0/18.0: Loss: 0.05666877329349518\n",
            "Epoch:5: Iteration 10/18.0: Loss: 0.04152077063918114\n",
            "Epoch:6: Iteration 0/18.0: Loss: 0.01763603277504444\n",
            "Epoch:6: Iteration 10/18.0: Loss: 0.034923650324344635\n",
            "Epoch:7: Iteration 0/18.0: Loss: 0.028434637933969498\n",
            "Epoch:7: Iteration 10/18.0: Loss: 0.04037858173251152\n",
            "Epoch:8: Iteration 0/18.0: Loss: 0.024854693561792374\n",
            "Epoch:8: Iteration 10/18.0: Loss: 0.018005099147558212\n",
            "Epoch:9: Iteration 0/18.0: Loss: 0.023456253111362457\n",
            "Epoch:9: Iteration 10/18.0: Loss: 0.027789143845438957\n",
            "Epoch:10: Iteration 0/18.0: Loss: 0.0019714203663170338\n",
            "Epoch:10: Iteration 10/18.0: Loss: 0.0028115054592490196\n",
            "Epoch:9/10: The Train Accuracy: 99.76359338061465 . The Test Accuracy: 95.55555555555556\n"
          ],
          "name": "stdout"
        },
        {
          "output_type": "display_data",
          "data": {
            "image/png": "[encoded data removed]",
            "text/plain": [
              "<Figure size 432x288 with 1 Axes>"
            ]
          },
          "metadata": {
            "tags": [],
            "needs_background": "light"
          }
        }
      ]
    },
    {
      "cell_type": "markdown",
      "metadata": {
        "id": "6lxl5gbeg6gn",
        "colab_type": "text"
      },
      "source": [
        "It is observed that it is very easy to do binary classification of COVID from X-ray. (NORMAL or COVID) using the model proposed above. This works with great accuracy. "
      ]
    },
    {
      "cell_type": "code",
      "metadata": {
        "id": "EiBBQ_Pqh48l",
        "colab_type": "code",
        "colab": {}
      },
      "source": [
        ""
      ],
      "execution_count": 8,
      "outputs": []
    }
  ]
}